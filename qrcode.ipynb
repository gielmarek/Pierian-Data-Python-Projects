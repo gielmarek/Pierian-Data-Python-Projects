{
 "cells": [
  {
   "cell_type": "code",
   "execution_count": 2,
   "id": "73cd849a",
   "metadata": {},
   "outputs": [],
   "source": [
    "import qrcode"
   ]
  },
  {
   "cell_type": "code",
   "execution_count": 5,
   "id": "4997d94b",
   "metadata": {},
   "outputs": [],
   "source": [
    "# Data to be encoded\n",
    "data = 'https://www.linkedin.com/in/marek-giel-1a12b4207/'\n",
    " \n",
    "# Encoding data using make() function\n",
    "linkedin = qrcode.make(data)"
   ]
  },
  {
   "cell_type": "code",
   "execution_count": 7,
   "id": "50092539",
   "metadata": {},
   "outputs": [
    {
     "data": {
      "image/png": "[encoded data removed]",
      "text/plain": [
       "<qrcode.image.pil.PilImage at 0x271a125e0d0>"
      ]
     },
     "execution_count": 7,
     "metadata": {},
     "output_type": "execute_result"
    }
   ],
   "source": [
    "linkedin"
   ]
  },
  {
   "cell_type": "code",
   "execution_count": null,
   "id": "abd35117",
   "metadata": {},
   "outputs": [],
   "source": []
  }
 ],
 "metadata": {
  "kernelspec": {
   "display_name": "Python 3 (ipykernel)",
   "language": "python",
   "name": "python3"
  },
  "language_info": {
   "codemirror_mode": {
    "name": "ipython",
    "version": 3
   },
   "file_extension": ".py",
   "mimetype": "text/x-python",
   "name": "python",
   "nbconvert_exporter": "python",
   "pygments_lexer": "ipython3",
   "version": "3.9.7"
  }
 },
 "nbformat": 4,
 "nbformat_minor": 5
}
